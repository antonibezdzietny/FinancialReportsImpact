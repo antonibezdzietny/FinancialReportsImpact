{
 "cells": [
  {
   "cell_type": "code",
   "execution_count": 47,
   "metadata": {},
   "outputs": [],
   "source": [
    "from bs4 import BeautifulSoup\n",
    "import numpy as np\n",
    "import requests"
   ]
  },
  {
   "cell_type": "code",
   "execution_count": 3,
   "metadata": {},
   "outputs": [],
   "source": [
    "request = requests.get(\"https://www.biznesradar.pl/wskazniki-wartosci-rynkowej/GIG\", allow_redirects=False)\n",
    "html_code = BeautifulSoup(request.content, 'html.parser')\n"
   ]
  },
  {
   "cell_type": "code",
   "execution_count": null,
   "metadata": {},
   "outputs": [],
   "source": [
    "class CompanyIndexScraper:\n",
    "    SKELETON_URL = \"https://www.biznesradar.pl\"\n",
    "    INDEXES_TO_SCRAP = {\n",
    "        \"wskazniki-wartosci-rynkowej\" : [\n",
    "            \"Cena / Wartość księgowa\",\n",
    "            \"Cena / Wartość księgowa Grahama\",\n",
    "            \"Cena / Przychody ze sprzedaży\",\n",
    "            \"Cena / Zysk\",\n",
    "            \"Cena / Zysk operacyjny\",\n",
    "            \"EV / Przychody ze sprzedaży\",\n",
    "            \"EV / EBIT\",\n",
    "            \"EV / EBITDA\",\n",
    "        ],\n",
    "        \"wskazniki-rentownosci\" : [\n",
    "            \"ROE\",\n",
    "            \"ROA\",\n",
    "            \"Marża zysku operacyjnego\",\n",
    "            \"Marża zysku netto\",\n",
    "            \"Marża zysku ze sprzedaży\",\n",
    "            \"Marża zysku brutto\",\n",
    "            \"Marża zysku brutto ze sprzedaży\",\n",
    "            \"Rentowność operacyjna aktywów\",\n",
    "        ],\n",
    "        \"wskazniki-przeplywow-pienieznych\" : [\n",
    "            \"Udział zysku netto w przepływach operacyjnych\",\n",
    "            \"Wskaźnik źródeł finansowania inwestycji\",\n",
    "        ],\n",
    "        \"wskazniki-zadluzenia\" : [\n",
    "            \"Zadłużenie ogólne\",\n",
    "            \"Zadłużenie kapitału własnego\",\n",
    "            \"Zastosowanie kapitału obcego\",\n",
    "            \"Wskaźnik ogólnej sytuacji finansowej\",\n",
    "        ],\n",
    "        \"wskazniki-plynnosci\" : [\n",
    "            \"I stopień pokrycia\",\n",
    "            \"Płynność gotówkowa\",\n",
    "            \"Płynność szybka\",\n",
    "            \"Płynność bieżąca\",\n",
    "            \"Pokrycie zobowiązań należnościami\",\n",
    "        ],\n",
    "    }\n",
    "\n",
    "    DATA_TYPE = [\n",
    "        \"Company\",\n",
    "        \"Sector\",\n",
    "        \"CompanyY/Y\",\n",
    "        \"SectorY/Y\",\n",
    "        \"CompanyQ/Q\",\n",
    "        \"SectorQ/Q\",\n",
    "    ]\n",
    "\n",
    "    def __init__(self):\n",
    "        self.dates_header_ = None\n",
    "        self.html_table_   = None\n",
    "        self.data_array_   = None\n",
    "        self.columns_name_ = sum(CompanyIndexScraper.INDEXES_TO_SCRAP.values(), [])\n",
    "\n",
    "    def __generate_url_address(indexes_type : str, ticker : str) -> str:\n",
    "        return f\"{CompanyIndexScraper.SKELETON_URL}/{indexes_type}/{ticker}\"\n",
    "    \n",
    "    def __download_http_response(self, url : str) -> BeautifulSoup:\n",
    "        request = requests.get(url, allow_redirects=False)\n",
    "        if request.status_code != 200:\n",
    "            raise f\"Download http response error code: {request.status_code}\"\n",
    "        return BeautifulSoup(request.content, 'html.parser')\n",
    "\n",
    "    def __download_and_prepare_html_table(self, indexes_type : str, ticker : str) -> None:\n",
    "        url = self.__generate_url_address(indexes_type, ticker)\n",
    "        html_response = self.__download_http_response(url)\n",
    "        self.html_table_ = html_response.find(\"table\", attrs={\"class\":\"report-table\"}) \n",
    "\n",
    "    def __scrap_header_date(self):\n",
    "        pass\n",
    "\n",
    "    def __prepare_data_space(self) -> None:\n",
    "        # Before use dates_header_ should be initialized \n",
    "        self.data_array_ = np.empty((len(self.dates_header_), len(self.columns_name_), len(CompanyIndexScraper.DATA_TYPE)))\n",
    "        self.data_array_[:] = np.nan\n",
    "\n"
   ]
  },
  {
   "cell_type": "code",
   "execution_count": 23,
   "metadata": {},
   "outputs": [],
   "source": [
    "indexes_to_scrap = {\n",
    "    \"wskazniki-wartosci-rynkowej\" : [\n",
    "        \"Cena / Wartość księgowa\",\n",
    "        \"Cena / Wartość księgowa Grahama\",\n",
    "        \"Cena / Przychody ze sprzedaży\",\n",
    "        \"Cena / Zysk\",\n",
    "        \"Cena / Zysk operacyjny\",\n",
    "        \"EV / Przychody ze sprzedaży\",\n",
    "        \"EV / EBIT\",\n",
    "        \"EV / EBITDA\",\n",
    "    ],\n",
    "    \"wskazniki-rentownosci\" : [\n",
    "        \"ROE\",\n",
    "        \"ROA\",\n",
    "        \"Marża zysku operacyjnego\",\n",
    "        \"Marża zysku netto\",\n",
    "        \"Marża zysku ze sprzedaży\",\n",
    "        \"Marża zysku brutto\",\n",
    "        \"Marża zysku brutto ze sprzedaży\",\n",
    "        \"Rentowność operacyjna aktywów\",\n",
    "    ],\n",
    "    \"wskazniki-przeplywow-pienieznych\" : [\n",
    "        \"Udział zysku netto w przepływach operacyjnych\",\n",
    "        \"Wskaźnik źródeł finansowania inwestycji\",\n",
    "    ],\n",
    "    \"wskazniki-zadluzenia\" : [\n",
    "        \"Zadłużenie ogólne\",\n",
    "        \"Zadłużenie kapitału własnego\",\n",
    "        \"Zastosowanie kapitału obcego\",\n",
    "        \"Wskaźnik ogólnej sytuacji finansowej\",\n",
    "    ],\n",
    "    \"wskazniki-plynnosci\" : [\n",
    "        \"I stopień pokrycia\",\n",
    "        \"Płynność gotówkowa\",\n",
    "        \"Płynność szybka\",\n",
    "        \"Płynność bieżąca\",\n",
    "        \"Pokrycie zobowiązań należnościami\",\n",
    "    ],\n",
    "}"
   ]
  },
  {
   "cell_type": "code",
   "execution_count": 48,
   "metadata": {},
   "outputs": [],
   "source": [
    "columns = sum(indexes_to_scrap.values(), [])"
   ]
  },
  {
   "cell_type": "code",
   "execution_count": 49,
   "metadata": {},
   "outputs": [],
   "source": [
    "header_row = table.find(\"tr\") \n",
    "dates_header = {\"Date\": [\"\".join(date.text.split()).split('(')[0] for date in date_tr.find_all(\"th\", attrs={\"class\":\"thq h\"})]}"
   ]
  },
  {
   "cell_type": "code",
   "execution_count": 54,
   "metadata": {},
   "outputs": [],
   "source": [
    "x = np.zeros((len(dates_header[\"Date\"]), len(columns), 6))"
   ]
  },
  {
   "cell_type": "code",
   "execution_count": 66,
   "metadata": {},
   "outputs": [
    {
     "data": {
      "text/plain": [
       "False"
      ]
     },
     "execution_count": 66,
     "metadata": {},
     "output_type": "execute_result"
    }
   ],
   "source": [
    "table_rows = table.find_all(\"tr\")[1:] # Omit the header dates row\n",
    "table_row = table_rows[0]\n",
    "table_row.find(\"td\", attrs={\"class\":\"f\"}).text in indexes_to_scrap[\"wskazniki-wartosci-rynkowej\"]\n"
   ]
  },
  {
   "cell_type": "code",
   "execution_count": 22,
   "metadata": {},
   "outputs": [
    {
     "ename": "AttributeError",
     "evalue": "ResultSet object has no attribute 'find'. You're probably treating a list of elements like a single element. Did you call find_all() when you meant to call find()?",
     "output_type": "error",
     "traceback": [
      "\u001b[0;31m---------------------------------------------------------------------------\u001b[0m",
      "\u001b[0;31mAttributeError\u001b[0m                            Traceback (most recent call last)",
      "Cell \u001b[0;32mIn[22], line 2\u001b[0m\n\u001b[1;32m      1\u001b[0m td \u001b[38;5;241m=\u001b[39m row\u001b[38;5;241m.\u001b[39mfind_all(\u001b[38;5;124m\"\u001b[39m\u001b[38;5;124mtd\u001b[39m\u001b[38;5;124m\"\u001b[39m, attrs\u001b[38;5;241m=\u001b[39m{\u001b[38;5;124m\"\u001b[39m\u001b[38;5;124mclass\u001b[39m\u001b[38;5;124m\"\u001b[39m:\u001b[38;5;124m\"\u001b[39m\u001b[38;5;124mf\u001b[39m\u001b[38;5;124m\"\u001b[39m})\n\u001b[0;32m----> 2\u001b[0m \u001b[43mtd\u001b[49m\u001b[38;5;241;43m.\u001b[39;49m\u001b[43mfind\u001b[49m(\u001b[38;5;124m\"\u001b[39m\u001b[38;5;124mstrong\u001b[39m\u001b[38;5;124m\"\u001b[39m)\n",
      "File \u001b[0;32m~/Dokumenty/StudiaZDM/FinancialReportsImpact/venv/lib/python3.12/site-packages/bs4/element.py:2433\u001b[0m, in \u001b[0;36mResultSet.__getattr__\u001b[0;34m(self, key)\u001b[0m\n\u001b[1;32m   2431\u001b[0m \u001b[38;5;28;01mdef\u001b[39;00m \u001b[38;5;21m__getattr__\u001b[39m(\u001b[38;5;28mself\u001b[39m, key):\n\u001b[1;32m   2432\u001b[0m \u001b[38;5;250m    \u001b[39m\u001b[38;5;124;03m\"\"\"Raise a helpful exception to explain a common code fix.\"\"\"\u001b[39;00m\n\u001b[0;32m-> 2433\u001b[0m     \u001b[38;5;28;01mraise\u001b[39;00m \u001b[38;5;167;01mAttributeError\u001b[39;00m(\n\u001b[1;32m   2434\u001b[0m         \u001b[38;5;124m\"\u001b[39m\u001b[38;5;124mResultSet object has no attribute \u001b[39m\u001b[38;5;124m'\u001b[39m\u001b[38;5;132;01m%s\u001b[39;00m\u001b[38;5;124m'\u001b[39m\u001b[38;5;124m. You\u001b[39m\u001b[38;5;124m'\u001b[39m\u001b[38;5;124mre probably treating a list of elements like a single element. Did you call find_all() when you meant to call find()?\u001b[39m\u001b[38;5;124m\"\u001b[39m \u001b[38;5;241m%\u001b[39m key\n\u001b[1;32m   2435\u001b[0m     )\n",
      "\u001b[0;31mAttributeError\u001b[0m: ResultSet object has no attribute 'find'. You're probably treating a list of elements like a single element. Did you call find_all() when you meant to call find()?"
     ]
    }
   ],
   "source": [
    "td = row.find_all(\"td\", attrs={\"class\":\"f\"})\n",
    "td.find(\"strong\")"
   ]
  },
  {
   "cell_type": "code",
   "execution_count": 17,
   "metadata": {},
   "outputs": [
    {
     "data": {
      "text/plain": [
       "[<td class=\"h\"><span class=\"value\"><span class=\"pv\"><span>14.49</span></span></span></td>,\n",
       " <td class=\"h\"><span class=\"value\"><span class=\"pv\"><span>11.14</span></span></span><div class=\"changeyy\">r/r <span class=\"pv\"><span><span class=\"q_ch_per cminus\">-23.16%</span></span></span></div></td>,\n",
       " <td class=\"h\"><span class=\"value\"><span class=\"pv\"><span>11.65</span></span></span><div class=\"changeyy\">r/r <span class=\"pv\"><span><span class=\"q_ch_per cplus\">+4.64%</span></span></span></div></td>,\n",
       " <td class=\"h\"><span class=\"value\"><span class=\"pv\"><span>14.43</span></span></span><div class=\"changeyy\">r/r <span class=\"pv\"><span><span class=\"q_ch_per cplus\">+23.82%</span></span></span></div></td>,\n",
       " <td class=\"h\"><span class=\"value\"><span class=\"pv\"><span>14.32</span></span></span></td>,\n",
       " <td class=\"h\"><span class=\"value\"><span class=\"pv\"><span>14.91</span></span></span><div class=\"changeqq\">k/k <span class=\"pv\"><span><span class=\"q_ch_per cplus\">+4.11%</span></span></span></div></td>,\n",
       " <td class=\"h\"><span class=\"value\"><span class=\"pv\"><span>15.17</span></span></span><div class=\"changeyy\">r/r <span class=\"pv\"><span><span class=\"q_ch_per cplus\">+5.16%</span></span></span></div><div class=\"changeqq\">k/k <span class=\"pv\"><span><span class=\"q_ch_per cplus\">+1.74%</span></span></span></div></td>,\n",
       " <td class=\"h\"><span class=\"value\"><span class=\"pv\"><span>15.55</span></span></span><div class=\"changeqq\">k/k <span class=\"pv\"><span><span class=\"q_ch_per cplus\">+2.48%</span></span></span></div></td>,\n",
       " <td class=\"h\"><span class=\"value\"><span class=\"pv\"><span>13.08</span></span></span><div class=\"changeyy\">r/r <span class=\"pv\"><span><span class=\"q_ch_per cminus\">-8.68%</span></span></span></div><div class=\"changeqq\">k/k <span class=\"pv\"><span><span class=\"q_ch_per cminus\">-15.87%</span></span></span></div></td>,\n",
       " <td class=\"h\"><span class=\"value\"><span class=\"pv\"><span>13.95</span></span></span><div class=\"changeyy\">r/r <span class=\"pv\"><span><span class=\"q_ch_per cminus\">-6.45%</span></span></span></div><div class=\"changeqq\">k/k <span class=\"pv\"><span><span class=\"q_ch_per cplus\">+6.65%</span></span></span></div></td>,\n",
       " <td class=\"h\"><span class=\"value\"><span class=\"pv\"><span>15.32</span></span></span><div class=\"changeyy\">r/r <span class=\"pv\"><span><span class=\"q_ch_per cplus\">+0.98%</span></span></span></div><div class=\"changeqq\">k/k <span class=\"pv\"><span><span class=\"q_ch_per cplus\">+9.82%</span></span></span></div></td>,\n",
       " <td class=\"h\"><span class=\"value\"><span class=\"pv\"><span>17.94</span></span></span><div class=\"changeyy\">r/r <span class=\"pv\"><span><span class=\"q_ch_per cplus\">+15.40%</span></span></span></div><div class=\"changeqq\">k/k <span class=\"pv\"><span><span class=\"q_ch_per cplus\">+17.12%</span></span></span></div></td>,\n",
       " <td class=\"h\"><span class=\"value\"><span class=\"pv\"><span>20.75</span></span></span><div class=\"changeyy\">r/r <span class=\"pv\"><span><span class=\"q_ch_per cplus\">+58.67%</span></span></span></div><div class=\"changeqq\">k/k <span class=\"pv\"><span><span class=\"q_ch_per cplus\">+15.67%</span></span></span></div></td>,\n",
       " <td class=\"h\"><span class=\"value\"><span class=\"pv\"><span>24.88</span></span></span><div class=\"changeyy\">r/r <span class=\"pv\"><span><span class=\"q_ch_per cplus\">+78.33%</span></span></span></div><div class=\"changeqq\">k/k <span class=\"pv\"><span><span class=\"q_ch_per cplus\">+19.87%</span></span></span></div></td>,\n",
       " <td class=\"h\"><span class=\"value\"><span class=\"pv\"><span>26.75</span></span></span><div class=\"changeyy\">r/r <span class=\"pv\"><span><span class=\"q_ch_per cplus\">+74.61%</span></span></span></div><div class=\"changeqq\">k/k <span class=\"pv\"><span><span class=\"q_ch_per cplus\">+7.53%</span></span></span></div></td>,\n",
       " <td class=\"h\"><span class=\"value\"><span class=\"pv\"><span>28.73</span></span></span><div class=\"changeyy\">r/r <span class=\"pv\"><span><span class=\"q_ch_per cplus\">+60.11%</span></span></span></div><div class=\"changeqq\">k/k <span class=\"pv\"><span><span class=\"q_ch_per cplus\">+7.40%</span></span></span></div></td>,\n",
       " <td class=\"h\"><span class=\"value\"><span class=\"pv\"><span>30.46</span></span></span><div class=\"changeyy\">r/r <span class=\"pv\"><span><span class=\"q_ch_per cplus\">+46.76%</span></span></span></div><div class=\"changeqq\">k/k <span class=\"pv\"><span><span class=\"q_ch_per cplus\">+6.03%</span></span></span></div></td>,\n",
       " <td class=\"h\"><span class=\"value\"><span class=\"pv\"><span>31.36</span></span></span><div class=\"changeyy\">r/r <span class=\"pv\"><span><span class=\"q_ch_per cplus\">+26.07%</span></span></span></div><div class=\"changeqq\">k/k <span class=\"pv\"><span><span class=\"q_ch_per cplus\">+2.97%</span></span></span></div></td>,\n",
       " <td class=\"h\"><span class=\"value\"><span class=\"pv\"><span>32.82</span></span></span><div class=\"changeyy\">r/r <span class=\"pv\"><span><span class=\"q_ch_per cplus\">+22.71%</span></span></span></div><div class=\"changeqq\">k/k <span class=\"pv\"><span><span class=\"q_ch_per cplus\">+4.66%</span></span></span></div></td>,\n",
       " <td class=\"h\"><span class=\"value\"><span class=\"pv\"><span>34.63</span></span></span><div class=\"changeyy\">r/r <span class=\"pv\"><span><span class=\"q_ch_per cplus\">+20.54%</span></span></span></div><div class=\"changeqq\">k/k <span class=\"pv\"><span><span class=\"q_ch_per cplus\">+5.50%</span></span></span></div></td>,\n",
       " <td class=\"h\"><span class=\"value\"><span class=\"pv\"><span>36.30</span></span></span><div class=\"changeyy\">r/r <span class=\"pv\"><span><span class=\"q_ch_per cplus\">+19.17%</span></span></span></div><div class=\"changeqq\">k/k <span class=\"pv\"><span><span class=\"q_ch_per cplus\">+4.82%</span></span></span></div></td>,\n",
       " <td class=\"h\"><span class=\"value\"><span class=\"pv\"><span>37.33</span></span></span><div class=\"changeyy\">r/r <span class=\"pv\"><span><span class=\"q_ch_per cplus\">+19.03%</span></span></span></div><div class=\"changeqq\">k/k <span class=\"pv\"><span><span class=\"q_ch_per cplus\">+2.85%</span></span></span></div></td>,\n",
       " <td class=\"h\"><span class=\"value\"><span class=\"pv\"><span>38.09</span></span></span><div class=\"changeyy\">r/r <span class=\"pv\"><span><span class=\"q_ch_per cplus\">+16.05%</span></span></span></div><div class=\"changeqq\">k/k <span class=\"pv\"><span><span class=\"q_ch_per cplus\">+2.05%</span></span></span></div></td>,\n",
       " <td class=\"h\"><span class=\"value\"><span class=\"pv\"><span>39.06</span></span></span><div class=\"changeyy\">r/r <span class=\"pv\"><span><span class=\"q_ch_per cplus\">+12.81%</span></span></span></div><div class=\"changeqq\">k/k <span class=\"pv\"><span><span class=\"q_ch_per cplus\">+2.54%</span></span></span></div></td>,\n",
       " <td class=\"h\"><span class=\"value\"><span class=\"pv\"><span>38.13</span></span></span><div class=\"changeyy\">r/r <span class=\"pv\"><span><span class=\"q_ch_per cplus\">+5.04%</span></span></span></div><div class=\"changeqq\">k/k <span class=\"pv\"><span><span class=\"q_ch_per cminus\">-2.40%</span></span></span></div></td>,\n",
       " <td class=\"h\"><span class=\"value\"><span class=\"pv\"><span>38.18</span></span></span><div class=\"changeyy\">r/r <span class=\"pv\"><span><span class=\"q_ch_per cplus\">+2.28%</span></span></span></div><div class=\"changeqq\">k/k <span class=\"pv\"><span><span class=\"q_ch_per cplus\">+0.15%</span></span></span></div></td>,\n",
       " <td class=\"h\"><span class=\"value\"><span class=\"pv\"><span>32.76</span></span></span><div class=\"changeyy\">r/r <span class=\"pv\"><span><span class=\"q_ch_per cminus\">-13.99%</span></span></span></div><div class=\"changeqq\">k/k <span class=\"pv\"><span><span class=\"q_ch_per cminus\">-14.19%</span></span></span></div></td>,\n",
       " <td class=\"h\"><span class=\"value\"><span class=\"pv\"><span>30.64</span></span></span><div class=\"changeyy\">r/r <span class=\"pv\"><span><span class=\"q_ch_per cminus\">-21.57%</span></span></span></div><div class=\"changeqq\">k/k <span class=\"pv\"><span><span class=\"q_ch_per cminus\">-6.49%</span></span></span></div></td>,\n",
       " <td class=\"h\"><span class=\"value\"><span class=\"pv\"><span>30.34</span></span></span><div class=\"changeyy\">r/r <span class=\"pv\"><span><span class=\"q_ch_per cminus\">-20.43%</span></span></span></div><div class=\"changeqq\">k/k <span class=\"pv\"><span><span class=\"q_ch_per cminus\">-0.98%</span></span></span></div></td>,\n",
       " <td class=\"h\"><span class=\"value\"><span class=\"pv\"><span>28.83</span></span></span><div class=\"changeyy\">r/r <span class=\"pv\"><span><span class=\"q_ch_per cminus\">-24.50%</span></span></span></div><div class=\"changeqq\">k/k <span class=\"pv\"><span><span class=\"q_ch_per cminus\">-4.98%</span></span></span></div></td>,\n",
       " <td class=\"h\"><span class=\"value\"><span class=\"pv\"><span>32.03</span></span></span><div class=\"changeyy\">r/r <span class=\"pv\"><span><span class=\"q_ch_per cminus\">-2.25%</span></span></span></div><div class=\"changeqq\">k/k <span class=\"pv\"><span><span class=\"q_ch_per cplus\">+11.10%</span></span></span></div></td>,\n",
       " <td class=\"h\"><span class=\"value\"><span class=\"pv\"><span>30.62</span></span></span><div class=\"changeyy\">r/r <span class=\"pv\"><span><span class=\"q_ch_per cminus\">-0.06%</span></span></span></div><div class=\"changeqq\">k/k <span class=\"pv\"><span><span class=\"q_ch_per cminus\">-4.40%</span></span></span></div></td>,\n",
       " <td class=\"h\"><span class=\"value\"><span class=\"pv\"><span>28.63</span></span></span><div class=\"changeyy\">r/r <span class=\"pv\"><span><span class=\"q_ch_per cminus\">-5.63%</span></span></span></div><div class=\"changeqq\">k/k <span class=\"pv\"><span><span class=\"q_ch_per cminus\">-6.50%</span></span></span></div></td>,\n",
       " <td class=\"h\"><span class=\"value\"><span class=\"pv\"><span>26.75</span></span></span><div class=\"changeyy\">r/r <span class=\"pv\"><span><span class=\"q_ch_per cminus\">-7.20%</span></span></span></div><div class=\"changeqq\">k/k <span class=\"pv\"><span><span class=\"q_ch_per cminus\">-6.56%</span></span></span></div></td>,\n",
       " <td class=\"h\"><span class=\"value\"><span class=\"pv\"><span>24.33</span></span></span><div class=\"changeyy\">r/r <span class=\"pv\"><span><span class=\"q_ch_per cminus\">-24.03%</span></span></span></div><div class=\"changeqq\">k/k <span class=\"pv\"><span><span class=\"q_ch_per cminus\">-9.05%</span></span></span></div></td>,\n",
       " <td class=\"h\"><span class=\"value\"><span class=\"pv\"><span>23.32</span></span></span><div class=\"changeyy\">r/r <span class=\"pv\"><span><span class=\"q_ch_per cminus\">-23.83%</span></span></span></div><div class=\"changeqq\">k/k <span class=\"pv\"><span><span class=\"q_ch_per cminus\">-4.14%</span></span></span></div></td>,\n",
       " <td class=\"h\"><span class=\"value\"><span class=\"pv\"><span>20.37</span></span></span><div class=\"changeyy\">r/r <span class=\"pv\"><span><span class=\"q_ch_per cminus\">-28.85%</span></span></span></div><div class=\"changeqq\">k/k <span class=\"pv\"><span><span class=\"q_ch_per cminus\">-12.66%</span></span></span></div></td>,\n",
       " <td class=\"h\"><span class=\"value\"><span class=\"pv\"><span>18.52</span></span></span><div class=\"changeyy\">r/r <span class=\"pv\"><span><span class=\"q_ch_per cminus\">-30.76%</span></span></span></div><div class=\"changeqq\">k/k <span class=\"pv\"><span><span class=\"q_ch_per cminus\">-9.07%</span></span></span></div></td>,\n",
       " <td class=\"h\"><span class=\"value\"><span class=\"pv\"><span>13.77</span></span></span><div class=\"changeyy\">r/r <span class=\"pv\"><span><span class=\"q_ch_per cminus\">-43.42%</span></span></span></div><div class=\"changeqq\">k/k <span class=\"pv\"><span><span class=\"q_ch_per cminus\">-25.68%</span></span></span></div></td>,\n",
       " <td class=\"h\"><span class=\"value\"><span class=\"pv\"><span>9.74</span></span></span><div class=\"changeyy\">r/r <span class=\"pv\"><span><span class=\"q_ch_per cminus\">-58.24%</span></span></span></div><div class=\"changeqq\">k/k <span class=\"pv\"><span><span class=\"q_ch_per cminus\">-29.26%</span></span></span></div></td>,\n",
       " <td class=\"h\"><span class=\"value\"><span class=\"pv\"><span>8.05</span></span></span><div class=\"changeyy\">r/r <span class=\"pv\"><span><span class=\"q_ch_per cminus\">-60.49%</span></span></span></div><div class=\"changeqq\">k/k <span class=\"pv\"><span><span class=\"q_ch_per cminus\">-17.35%</span></span></span></div></td>,\n",
       " <td class=\"h\"><span class=\"value\"><span class=\"pv\"><span>5.76</span></span></span><div class=\"changeyy\">r/r <span class=\"pv\"><span><span class=\"q_ch_per cminus\">-68.90%</span></span></span></div><div class=\"changeqq\">k/k <span class=\"pv\"><span><span class=\"q_ch_per cminus\">-28.44%</span></span></span></div></td>,\n",
       " <td class=\"h\"><span class=\"value\"><span class=\"pv\"><span>6.85</span></span></span><div class=\"changeyy\">r/r <span class=\"pv\"><span><span class=\"q_ch_per cminus\">-50.27%</span></span></span></div><div class=\"changeqq\">k/k <span class=\"pv\"><span><span class=\"q_ch_per cplus\">+18.86%</span></span></span></div></td>,\n",
       " <td class=\"h\"><span class=\"value\"><span class=\"pv\"><span>7.18</span></span></span><div class=\"changeyy\">r/r <span class=\"pv\"><span><span class=\"q_ch_per cminus\">-26.25%</span></span></span></div><div class=\"changeqq\">k/k <span class=\"pv\"><span><span class=\"q_ch_per cplus\">+4.91%</span></span></span></div></td>,\n",
       " <td class=\"h\"><span class=\"value\"><span class=\"pv\"><span>7.39</span></span></span><div class=\"changeyy\">r/r <span class=\"pv\"><span><span class=\"q_ch_per cminus\">-8.24%</span></span></span></div><div class=\"changeqq\">k/k <span class=\"pv\"><span><span class=\"q_ch_per cplus\">+2.83%</span></span></span></div></td>,\n",
       " <td class=\"h\"><span class=\"value\"><span class=\"pv\"><span>7.44</span></span></span><div class=\"changeyy\">r/r <span class=\"pv\"><span><span class=\"q_ch_per cplus\">+29.12%</span></span></span></div><div class=\"changeqq\">k/k <span class=\"pv\"><span><span class=\"q_ch_per cplus\">+0.70%</span></span></span></div></td>,\n",
       " <td class=\"h\"><span class=\"value\"><span class=\"pv\"><span>7.71</span></span></span><div class=\"changeyy\">r/r <span class=\"pv\"><span><span class=\"q_ch_per cplus\">+12.57%</span></span></span></div><div class=\"changeqq\">k/k <span class=\"pv\"><span><span class=\"q_ch_per cplus\">+3.62%</span></span></span></div></td>,\n",
       " <td class=\"h\"><span class=\"value\"><span class=\"pv\"><span>7.87</span></span></span><div class=\"changeyy\">r/r <span class=\"pv\"><span><span class=\"q_ch_per cplus\">+9.55%</span></span></span></div><div class=\"changeqq\">k/k <span class=\"pv\"><span><span class=\"q_ch_per cplus\">+2.09%</span></span></span></div></td>,\n",
       " <td class=\"h\"><span class=\"value\"><span class=\"pv\"><span>7.99</span></span></span><div class=\"changeyy\">r/r <span class=\"pv\"><span><span class=\"q_ch_per cplus\">+8.15%</span></span></span></div><div class=\"changeqq\">k/k <span class=\"pv\"><span><span class=\"q_ch_per cplus\">+1.52%</span></span></span></div></td>,\n",
       " <td class=\"h\"><span class=\"value\"><span class=\"pv\"><span>5.08</span></span></span><div class=\"changeyy\">r/r <span class=\"pv\"><span><span class=\"q_ch_per cminus\">-31.76%</span></span></span></div><div class=\"changeqq\">k/k <span class=\"pv\"><span><span class=\"q_ch_per cminus\">-36.47%</span></span></span></div></td>,\n",
       " <td class=\"h\"><span class=\"value\"><span class=\"pv\"><span>5.10</span></span></span><div class=\"changeyy\">r/r <span class=\"pv\"><span><span class=\"q_ch_per cminus\">-33.84%</span></span></span></div><div class=\"changeqq\">k/k <span class=\"pv\"><span><span class=\"q_ch_per cplus\">+0.46%</span></span></span></div></td>,\n",
       " <td class=\"h\"><span class=\"value\"><span class=\"pv\"><span>5.21</span></span></span><div class=\"changeyy\">r/r <span class=\"pv\"><span><span class=\"q_ch_per cminus\">-33.82%</span></span></span></div><div class=\"changeqq\">k/k <span class=\"pv\"><span><span class=\"q_ch_per cplus\">+2.13%</span></span></span></div></td>,\n",
       " <td class=\"h newest\"><span class=\"value\"><span class=\"pv\"><span>5.28</span></span></span><div class=\"changeyy\">r/r <span class=\"pv\"><span><span class=\"q_ch_per cminus\">-33.87%</span></span></span></div><div class=\"changeqq\">k/k <span class=\"pv\"><span><span class=\"q_ch_per cplus\">+1.44%</span></span></span></div></td>]"
      ]
     },
     "execution_count": 17,
     "metadata": {},
     "output_type": "execute_result"
    }
   ],
   "source": [
    "row.find_all(\"td\", attrs={\"class\":\"h\"})"
   ]
  }
 ],
 "metadata": {
  "kernelspec": {
   "display_name": "venv",
   "language": "python",
   "name": "python3"
  },
  "language_info": {
   "codemirror_mode": {
    "name": "ipython",
    "version": 3
   },
   "file_extension": ".py",
   "mimetype": "text/x-python",
   "name": "python",
   "nbconvert_exporter": "python",
   "pygments_lexer": "ipython3",
   "version": "3.12.3"
  }
 },
 "nbformat": 4,
 "nbformat_minor": 2
}
