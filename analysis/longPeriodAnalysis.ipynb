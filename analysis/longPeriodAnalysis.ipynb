{
 "cells": [
  {
   "cell_type": "markdown",
   "metadata": {},
   "source": [
    "## Simply average long period analysis\n",
    "---"
   ]
  },
  {
   "cell_type": "code",
   "execution_count": 1,
   "metadata": {},
   "outputs": [],
   "source": [
    "import numpy as np\n",
    "import pandas as pd\n",
    "from scripts import StockPriceDatabase\n",
    "\n",
    "report = pd.read_csv(\"../database/reportData/Annual_Value.csv\", index_col=[0])\n",
    "report[\"Date\"] = report[\"Date\"].astype('datetime64[s]')\n",
    "spd = StockPriceDatabase(\"../database/stockPrice/\")\n",
    "wig = pd.read_csv(\"../database/designData/WIGs.csv\")"
   ]
  },
  {
   "cell_type": "code",
   "execution_count": 2,
   "metadata": {},
   "outputs": [],
   "source": [
    "M_DAY_DISTANCE = 30"
   ]
  },
  {
   "cell_type": "code",
   "execution_count": 9,
   "metadata": {},
   "outputs": [],
   "source": [
    "class StockPriceAnalyzer:\n",
    "    @staticmethod\n",
    "    def rate_of_return(stock_price: pd.DataFrame, \n",
    "                       date: np.datetime64,\n",
    "                       value_type: str = \"Close\"):\n",
    "        pass\n",
    "\n",
    "    def avg_rate_of_return(stock_price: pd.DataFrame,\n",
    "                           date: np.datetime64,\n",
    "                           value_type: str = \"Close\"):\n",
    "        pass\n",
    "\n",
    "    def avg_stock_price(stock_price: pd.DataFrame,\n",
    "                        date_begin: np.datetime64,\n",
    "                        date_end: np.datetime64,\n",
    "                        value_type: str = \"Close\"):\n",
    "        \n",
    "        pass"
   ]
  },
  {
   "cell_type": "code",
   "execution_count": 18,
   "metadata": {},
   "outputs": [],
   "source": [
    "benchmarking_value = pd.DataFrame()\n",
    "\n",
    "for idx, row in report.iterrows():\n",
    "    date, ticker = row[\"Date\"], row[\"Ticker\"]\n",
    "    # Company\n",
    "    stock_price = spd.get_stock_price(row[\"Ticker\"])\n",
    "    stock_price.index = stock_price.index.astype('datetime64[s]')\n",
    "    close_avg_earlier = stock_price[np.all([stock_price.index > row[\"Date\"] + np.timedelta64(-2*M_DAY_DISTANCE, 'D'),\n",
    "                                            stock_price.index < row[\"Date\"] + np.timedelta64(-1*M_DAY_DISTANCE, 'D')], axis=0)][\"Close\"].mean()\n",
    "    close_avg_after   = stock_price[np.all([stock_price.index > row[\"Date\"] + np.timedelta64(1*M_DAY_DISTANCE, 'D'),\n",
    "                                            stock_price.index < row[\"Date\"] + np.timedelta64(2*M_DAY_DISTANCE, 'D')], axis=0)][\"Close\"].mean()\n",
    "    company_growth_index = (close_avg_after - close_avg_earlier) / close_avg_earlier * 100\n",
    "    \n",
    "    # WIGs\n",
    "    try:\n",
    "        wig_ticker = np.where(wig.to_numpy() == row[\"Ticker\"])[1][0]\n",
    "    except:\n",
    "        break\n",
    "    stock_price = spd.get_stock_price(wig.columns[wig_ticker])\n",
    "    stock_price.index = stock_price.index.astype('datetime64[s]')\n",
    "    close_avg_earlier = stock_price[np.all([stock_price.index > row[\"Date\"] + np.timedelta64(-2*M_DAY_DISTANCE, 'D'),\n",
    "                                            stock_price.index < row[\"Date\"] + np.timedelta64(-1*M_DAY_DISTANCE, 'D')], axis=0)][\"Close\"].mean()\n",
    "    close_avg_after   = stock_price[np.all([stock_price.index > row[\"Date\"] + np.timedelta64(1*M_DAY_DISTANCE, 'D'),\n",
    "                                            stock_price.index < row[\"Date\"] + np.timedelta64(2*M_DAY_DISTANCE, 'D')], axis=0)][\"Close\"].mean()\n",
    "    wig_growth_index = (close_avg_after - close_avg_earlier) / close_avg_earlier * 100\n",
    "\n",
    "    benchmarking_against_index = company_growth_index - wig_growth_index\n",
    "    \n",
    "    if np.isnan(benchmarking_against_index):\n",
    "        continue\n",
    "\n",
    "    benchmarking_value = pd.concat([benchmarking_value, pd.DataFrame(data=[benchmarking_against_index], index=[idx])])"
   ]
  },
  {
   "cell_type": "code",
   "execution_count": 23,
   "metadata": {},
   "outputs": [
    {
     "data": {
      "text/plain": [
       "Index([   0,    1,    2,    3,    4,    5,    6,    7,    8,    9,\n",
       "       ...\n",
       "       2011, 2012, 2013, 2014, 2015, 2016, 2017, 2018, 2019, 2020],\n",
       "      dtype='int64', length=1806)"
      ]
     },
     "execution_count": 23,
     "metadata": {},
     "output_type": "execute_result"
    }
   ],
   "source": [
    "benchmarking_value.index[1:]benchmarking_value.index[0:-1]"
   ]
  }
 ],
 "metadata": {
  "kernelspec": {
   "display_name": "venv",
   "language": "python",
   "name": "python3"
  },
  "language_info": {
   "codemirror_mode": {
    "name": "ipython",
    "version": 3
   },
   "file_extension": ".py",
   "mimetype": "text/x-python",
   "name": "python",
   "nbconvert_exporter": "python",
   "pygments_lexer": "ipython3",
   "version": "3.12.3"
  }
 },
 "nbformat": 4,
 "nbformat_minor": 2
}
