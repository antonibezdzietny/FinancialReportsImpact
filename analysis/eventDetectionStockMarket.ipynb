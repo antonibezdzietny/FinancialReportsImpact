{
 "cells": [
  {
   "cell_type": "markdown",
   "metadata": {},
   "source": [
    "## Wykrywanie zdarzeń za pomocą metody `Abnormal Return, AbR`\n",
    "\n",
    "Źródło: Event Detection in Financial Markets, *Mohammad Shirdel, Michele Segata, Giuseppe Di Fatta, Antonio Liotta*, Year: 2022 | Conference Paper | Publisher: IEEE\n",
    "\n",
    "---\n",
    "\n",
    "Aby wyznaczyć daty zdarzeń (ang. Event Date Detection, EDD) w tym artykule, można zastosować metodę analizy abnormal returns — czyli \"nienormalnych zwrotów\" ceny akcji — która pozwala identyfikować daty potencjalnych wydarzeń mających wpływ na rynek. Kroki są następujące:\n",
    "\n",
    "1. Obliczenie rozkładu procentowego zwrotu ceny dla danej daty:\n",
    "\n",
    "Obliczamy, na ile zwrot ceny w danym dniu jest nietypowy w porównaniu z wcześniejszymi wartościami. Aby to zrobić, stosujemy procentowe zwroty:\n",
    "$$\n",
    "pctl = (R_0, ..., R_n) = \\frac{\\sum_{i=1}^n step(sign(R_0)*(R_0 - R_i))}{n}\n",
    "$$\n",
    "Gdzie:\n",
    "- $R_0$ to zwrot ceny w dniu, dla którego liczymy wartość, a $R_1, ..., R_n$ zwroty w n wcześniejszych dniach,\n",
    "- Funkcja `step(x)` wynosi $1$, gdy $x>0$ , i $0$ w przeciwnym przypadku.\n",
    "\n",
    "2. Wyznaczenie miary anormalności\n",
    "Aby ułatwić identyfikację daty zdarzenia, warto wprowadzić miarę nienormalności zwrotu (*Abnormal Return, AbR*), która bierze pod uwagę zarówno zmienność długookresową, jak i krótkookresową. Formuła nienormalności jest następująca:\n",
    "$$\n",
    "    AbR(R_0​,R_1​,…,R_L​)=pctl(R_0​,R_1​,…,R_L​)×pctl(∣R_0​∣,∣R_1​∣,…,∣R_L​∣)×pctl(R_0​,R_1​,…,R_S​)×pctl(∣R_0​∣,∣R_1​∣,…,∣R_S​∣)\n",
    "$$\n",
    "Gdzie:\n",
    "- $L$ to liczba dni dla długiego okresu,\n",
    "- $S$ to liczba dni dla krótkiego okresu.\n",
    "\n",
    "3. Wyznaczenie daty zdarzenia\n",
    "\n",
    "Po obliczeniu wartości AbR dla danego dnia, porównuje się ją z ustalonym progiem, np. $0,94$ (zgodnie z artykułem). Jeśli *AbR* przekroczy próg, dzień uznaje się za datę zdarzenia.\n"
   ]
  },
  {
   "cell_type": "code",
   "execution_count": 90,
   "metadata": {},
   "outputs": [],
   "source": [
    "import numpy as np\n",
    "import pandas as pd\n",
    "from scripts import StockPriceDatabase\n",
    "pd.options.mode.chained_assignment = None "
   ]
  },
  {
   "cell_type": "code",
   "execution_count": 102,
   "metadata": {},
   "outputs": [
    {
     "data": {
      "text/html": [
       "<div>\n",
       "<style scoped>\n",
       "    .dataframe tbody tr th:only-of-type {\n",
       "        vertical-align: middle;\n",
       "    }\n",
       "\n",
       "    .dataframe tbody tr th {\n",
       "        vertical-align: top;\n",
       "    }\n",
       "\n",
       "    .dataframe thead th {\n",
       "        text-align: right;\n",
       "    }\n",
       "</style>\n",
       "<table border=\"1\" class=\"dataframe\">\n",
       "  <thead>\n",
       "    <tr style=\"text-align: right;\">\n",
       "      <th></th>\n",
       "      <th>Close</th>\n",
       "      <th>Returns</th>\n",
       "    </tr>\n",
       "    <tr>\n",
       "      <th>Date</th>\n",
       "      <th></th>\n",
       "      <th></th>\n",
       "    </tr>\n",
       "  </thead>\n",
       "  <tbody>\n",
       "    <tr>\n",
       "      <th>2004-12-03</th>\n",
       "      <td>7.8682</td>\n",
       "      <td>-0.015971</td>\n",
       "    </tr>\n",
       "    <tr>\n",
       "      <th>2004-12-06</th>\n",
       "      <td>7.7151</td>\n",
       "      <td>-0.019458</td>\n",
       "    </tr>\n",
       "    <tr>\n",
       "      <th>2004-12-07</th>\n",
       "      <td>7.5535</td>\n",
       "      <td>-0.020946</td>\n",
       "    </tr>\n",
       "    <tr>\n",
       "      <th>2004-12-08</th>\n",
       "      <td>7.5111</td>\n",
       "      <td>-0.005613</td>\n",
       "    </tr>\n",
       "    <tr>\n",
       "      <th>2004-12-09</th>\n",
       "      <td>7.5535</td>\n",
       "      <td>0.005645</td>\n",
       "    </tr>\n",
       "    <tr>\n",
       "      <th>...</th>\n",
       "      <td>...</td>\n",
       "      <td>...</td>\n",
       "    </tr>\n",
       "    <tr>\n",
       "      <th>2024-09-23</th>\n",
       "      <td>155.6000</td>\n",
       "      <td>0.012362</td>\n",
       "    </tr>\n",
       "    <tr>\n",
       "      <th>2024-09-24</th>\n",
       "      <td>152.1000</td>\n",
       "      <td>-0.022494</td>\n",
       "    </tr>\n",
       "    <tr>\n",
       "      <th>2024-09-25</th>\n",
       "      <td>178.0000</td>\n",
       "      <td>0.170283</td>\n",
       "    </tr>\n",
       "    <tr>\n",
       "      <th>2024-09-26</th>\n",
       "      <td>176.2000</td>\n",
       "      <td>-0.010112</td>\n",
       "    </tr>\n",
       "    <tr>\n",
       "      <th>2024-09-27</th>\n",
       "      <td>173.0000</td>\n",
       "      <td>-0.018161</td>\n",
       "    </tr>\n",
       "  </tbody>\n",
       "</table>\n",
       "<p>4945 rows × 2 columns</p>\n",
       "</div>"
      ],
      "text/plain": [
       "               Close   Returns\n",
       "Date                          \n",
       "2004-12-03    7.8682 -0.015971\n",
       "2004-12-06    7.7151 -0.019458\n",
       "2004-12-07    7.5535 -0.020946\n",
       "2004-12-08    7.5111 -0.005613\n",
       "2004-12-09    7.5535  0.005645\n",
       "...              ...       ...\n",
       "2024-09-23  155.6000  0.012362\n",
       "2024-09-24  152.1000 -0.022494\n",
       "2024-09-25  178.0000  0.170283\n",
       "2024-09-26  176.2000 -0.010112\n",
       "2024-09-27  173.0000 -0.018161\n",
       "\n",
       "[4945 rows x 2 columns]"
      ]
     },
     "execution_count": 102,
     "metadata": {},
     "output_type": "execute_result"
    }
   ],
   "source": [
    "# Download example market price\n",
    "spd = StockPriceDatabase()\n",
    "market_historical = spd.get_stock_price(\"CCC\")\n",
    "\n",
    "# Get selected data\n",
    "market_data = market_historical[[\"Close\"]]\n",
    "market_data[\"Returns\"] = market_data[\"Close\"].pct_change()\n",
    "market_data.dropna()"
   ]
  },
  {
   "cell_type": "code",
   "execution_count": 104,
   "metadata": {},
   "outputs": [],
   "source": [
    "def pctl(returns, n = 5):\n",
    "    return np.array([np.sum( (np.sign(returns[i]) * (returns[i] - returns[np.max([i-n, 0]): i]) > 0) ) / n \n",
    "            for i, _ in enumerate(returns)])\n",
    "\n",
    "def abr(returns, ns = 5, nl = 30):\n",
    "    return pctl(returns, nl) * pctl(np.abs(returns), nl) *  pctl(returns, ns) * pctl(np.abs(returns), ns)\n",
    "    "
   ]
  },
  {
   "cell_type": "code",
   "execution_count": 111,
   "metadata": {},
   "outputs": [
    {
     "data": {
      "text/html": [
       "<div>\n",
       "<style scoped>\n",
       "    .dataframe tbody tr th:only-of-type {\n",
       "        vertical-align: middle;\n",
       "    }\n",
       "\n",
       "    .dataframe tbody tr th {\n",
       "        vertical-align: top;\n",
       "    }\n",
       "\n",
       "    .dataframe thead th {\n",
       "        text-align: right;\n",
       "    }\n",
       "</style>\n",
       "<table border=\"1\" class=\"dataframe\">\n",
       "  <thead>\n",
       "    <tr style=\"text-align: right;\">\n",
       "      <th></th>\n",
       "      <th>Close</th>\n",
       "      <th>Returns</th>\n",
       "      <th>AbR</th>\n",
       "    </tr>\n",
       "    <tr>\n",
       "      <th>Date</th>\n",
       "      <th></th>\n",
       "      <th></th>\n",
       "      <th></th>\n",
       "    </tr>\n",
       "  </thead>\n",
       "  <tbody>\n",
       "    <tr>\n",
       "      <th>2005-01-21</th>\n",
       "      <td>7.1452</td>\n",
       "      <td>-0.043301</td>\n",
       "      <td>1.000000</td>\n",
       "    </tr>\n",
       "    <tr>\n",
       "      <th>2005-02-22</th>\n",
       "      <td>7.8682</td>\n",
       "      <td>0.031192</td>\n",
       "      <td>0.966667</td>\n",
       "    </tr>\n",
       "    <tr>\n",
       "      <th>2005-02-23</th>\n",
       "      <td>8.3532</td>\n",
       "      <td>0.061641</td>\n",
       "      <td>1.000000</td>\n",
       "    </tr>\n",
       "    <tr>\n",
       "      <th>2005-03-23</th>\n",
       "      <td>10.0820</td>\n",
       "      <td>0.067760</td>\n",
       "      <td>1.000000</td>\n",
       "    </tr>\n",
       "    <tr>\n",
       "      <th>2005-06-23</th>\n",
       "      <td>11.4500</td>\n",
       "      <td>0.029121</td>\n",
       "      <td>0.966667</td>\n",
       "    </tr>\n",
       "    <tr>\n",
       "      <th>...</th>\n",
       "      <td>...</td>\n",
       "      <td>...</td>\n",
       "      <td>...</td>\n",
       "    </tr>\n",
       "    <tr>\n",
       "      <th>2024-04-15</th>\n",
       "      <td>83.0000</td>\n",
       "      <td>0.164912</td>\n",
       "      <td>1.000000</td>\n",
       "    </tr>\n",
       "    <tr>\n",
       "      <th>2024-05-10</th>\n",
       "      <td>126.0000</td>\n",
       "      <td>0.238938</td>\n",
       "      <td>1.000000</td>\n",
       "    </tr>\n",
       "    <tr>\n",
       "      <th>2024-06-25</th>\n",
       "      <td>123.0000</td>\n",
       "      <td>-0.090237</td>\n",
       "      <td>1.000000</td>\n",
       "    </tr>\n",
       "    <tr>\n",
       "      <th>2024-08-29</th>\n",
       "      <td>155.0000</td>\n",
       "      <td>0.085434</td>\n",
       "      <td>1.000000</td>\n",
       "    </tr>\n",
       "    <tr>\n",
       "      <th>2024-09-25</th>\n",
       "      <td>178.0000</td>\n",
       "      <td>0.170283</td>\n",
       "      <td>1.000000</td>\n",
       "    </tr>\n",
       "  </tbody>\n",
       "</table>\n",
       "<p>205 rows × 3 columns</p>\n",
       "</div>"
      ],
      "text/plain": [
       "               Close   Returns       AbR\n",
       "Date                                    \n",
       "2005-01-21    7.1452 -0.043301  1.000000\n",
       "2005-02-22    7.8682  0.031192  0.966667\n",
       "2005-02-23    8.3532  0.061641  1.000000\n",
       "2005-03-23   10.0820  0.067760  1.000000\n",
       "2005-06-23   11.4500  0.029121  0.966667\n",
       "...              ...       ...       ...\n",
       "2024-04-15   83.0000  0.164912  1.000000\n",
       "2024-05-10  126.0000  0.238938  1.000000\n",
       "2024-06-25  123.0000 -0.090237  1.000000\n",
       "2024-08-29  155.0000  0.085434  1.000000\n",
       "2024-09-25  178.0000  0.170283  1.000000\n",
       "\n",
       "[205 rows x 3 columns]"
      ]
     },
     "execution_count": 111,
     "metadata": {},
     "output_type": "execute_result"
    }
   ],
   "source": [
    "market_data[market_data[\"AbR\"] > 0.94]"
   ]
  },
  {
   "cell_type": "markdown",
   "metadata": {},
   "source": [
    "### Model sieci LSTM"
   ]
  },
  {
   "cell_type": "code",
   "execution_count": 112,
   "metadata": {},
   "outputs": [],
   "source": [
    "import numpy as np\n",
    "import pandas as pd\n",
    "from scripts import StockPriceDatabase\n",
    "pd.options.mode.chained_assignment = None "
   ]
  },
  {
   "cell_type": "code",
   "execution_count": 200,
   "metadata": {},
   "outputs": [],
   "source": [
    "# Download example market price\n",
    "spd = StockPriceDatabase()\n",
    "market_historical = spd.get_stock_price(\"CCC\")\n",
    "\n",
    "# Get stock prices\n",
    "prices = market_data[\"Close\"].to_numpy().reshape(-1,1)"
   ]
  },
  {
   "cell_type": "code",
   "execution_count": 201,
   "metadata": {},
   "outputs": [],
   "source": [
    "def windowing_signal(signal, n=60):\n",
    "    x = []\n",
    "    y = []\n",
    "    for i in range(n, len(signal)):\n",
    "        x.append(signal[i-n : i, 0])\n",
    "        y.append(signal[i, 0])\n",
    "    x = np.array(x)\n",
    "    y = np.array(y)\n",
    "\n",
    "    return x.reshape(x.shape[0], x.shape[1], 1), y.reshape(y.shape[0], 1)\n"
   ]
  },
  {
   "cell_type": "code",
   "execution_count": 202,
   "metadata": {},
   "outputs": [],
   "source": [
    "## Data preprocessing\n",
    "from sklearn.preprocessing import MinMaxScaler\n",
    "\n",
    "# Normalize the data\n",
    "scaler = MinMaxScaler(feature_range=(0, 1))\n",
    "prices_scaled = scaler.fit_transform(prices)\n",
    "\n",
    "# Split the data into training and testing sets\n",
    "train_size = int(len(prices_scaled) * 0.7)\n",
    "train_data, test_data = prices_scaled[:train_size], prices_scaled[train_size:]"
   ]
  },
  {
   "cell_type": "code",
   "execution_count": 203,
   "metadata": {},
   "outputs": [],
   "source": [
    "x_train, y_train = windowing_signal(train_data)\n",
    "x_test, y_test = windowing_signal(train_data)"
   ]
  },
  {
   "cell_type": "code",
   "execution_count": 204,
   "metadata": {},
   "outputs": [],
   "source": [
    "from tensorflow.keras.models import Sequential \n",
    "from tensorflow.keras.layers import LSTM, Dense, Dropout, Input\n",
    "\n",
    "# Build the LSTM model\n",
    "model = Sequential()\n",
    "model.add(Input(shape=(x_train.shape[1], 1)))\n",
    "model.add(LSTM(units=50, return_sequences=True))\n",
    "model.add(Dropout(0.2))\n",
    "model.add(LSTM(units=50,return_sequences=True))\n",
    "model.add(Dropout(0.2))\n",
    "model.add(LSTM(units=50,return_sequences=True))\n",
    "model.add(Dropout(0.2))\n",
    "model.add(LSTM(units=50))\n",
    "model.add(Dropout(0.2))\n",
    "model.add(Dense(units=1))\n",
    "model.compile(optimizer='adam',loss='mean_squared_error')"
   ]
  },
  {
   "cell_type": "code",
   "execution_count": 205,
   "metadata": {},
   "outputs": [
    {
     "name": "stdout",
     "output_type": "stream",
     "text": [
      "Epoch 1/100\n",
      "\u001b[1m107/107\u001b[0m \u001b[32m━━━━━━━━━━━━━━━━━━━━\u001b[0m\u001b[37m\u001b[0m \u001b[1m12s\u001b[0m 67ms/step - loss: nan\n",
      "Epoch 2/100\n",
      "\u001b[1m107/107\u001b[0m \u001b[32m━━━━━━━━━━━━━━━━━━━━\u001b[0m\u001b[37m\u001b[0m \u001b[1m7s\u001b[0m 68ms/step - loss: nan\n",
      "Epoch 3/100\n",
      "\u001b[1m107/107\u001b[0m \u001b[32m━━━━━━━━━━━━━━━━━━━━\u001b[0m\u001b[37m\u001b[0m \u001b[1m7s\u001b[0m 68ms/step - loss: nan\n",
      "Epoch 4/100\n",
      "\u001b[1m107/107\u001b[0m \u001b[32m━━━━━━━━━━━━━━━━━━━━\u001b[0m\u001b[37m\u001b[0m \u001b[1m7s\u001b[0m 67ms/step - loss: nan\n",
      "Epoch 5/100\n",
      "\u001b[1m107/107\u001b[0m \u001b[32m━━━━━━━━━━━━━━━━━━━━\u001b[0m\u001b[37m\u001b[0m \u001b[1m7s\u001b[0m 67ms/step - loss: nan\n",
      "Epoch 6/100\n",
      "\u001b[1m107/107\u001b[0m \u001b[32m━━━━━━━━━━━━━━━━━━━━\u001b[0m\u001b[37m\u001b[0m \u001b[1m7s\u001b[0m 67ms/step - loss: nan\n",
      "Epoch 7/100\n",
      "\u001b[1m107/107\u001b[0m \u001b[32m━━━━━━━━━━━━━━━━━━━━\u001b[0m\u001b[37m\u001b[0m \u001b[1m7s\u001b[0m 68ms/step - loss: nan\n",
      "Epoch 8/100\n",
      "\u001b[1m 49/107\u001b[0m \u001b[32m━━━━━━━━━\u001b[0m\u001b[37m━━━━━━━━━━━\u001b[0m \u001b[1m3s\u001b[0m 68ms/step - loss: nan"
     ]
    }
   ],
   "source": [
    "# Train the model\n",
    "history = model.fit(x_train, y_train, epochs=100, batch_size=32)"
   ]
  },
  {
   "cell_type": "code",
   "execution_count": 195,
   "metadata": {},
   "outputs": [
    {
     "name": "stdout",
     "output_type": "stream",
     "text": [
      "Train Loss: 0.000137\n",
      "Test Loss: 0.000137\n"
     ]
    }
   ],
   "source": [
    "# Evaluate the model\n",
    "train_loss = model.evaluate(x_train, y_train, verbose=0)\n",
    "test_loss = model.evaluate(x_test, y_test, verbose=0)\n",
    "print(f'Train Loss: {train_loss:.6f}')\n",
    "print(f'Test Loss: {test_loss:.6f}')"
   ]
  },
  {
   "cell_type": "code",
   "execution_count": 196,
   "metadata": {},
   "outputs": [
    {
     "name": "stdout",
     "output_type": "stream",
     "text": [
      "\u001b[1m107/107\u001b[0m \u001b[32m━━━━━━━━━━━━━━━━━━━━\u001b[0m\u001b[37m\u001b[0m \u001b[1m4s\u001b[0m 34ms/step\n"
     ]
    }
   ],
   "source": [
    "y_predict = model.predict(x_test)"
   ]
  },
  {
   "cell_type": "code",
   "execution_count": 198,
   "metadata": {},
   "outputs": [
    {
     "data": {
      "text/plain": [
       "np.float64(-0.0023854721931414135)"
      ]
     },
     "execution_count": 198,
     "metadata": {},
     "output_type": "execute_result"
    }
   ],
   "source": [
    "(y_test - y_predict).mean()"
   ]
  },
  {
   "cell_type": "code",
   "execution_count": 183,
   "metadata": {},
   "outputs": [
    {
     "data": {
      "text/plain": [
       "[<matplotlib.lines.Line2D at 0x7b0020278740>]"
      ]
     },
     "execution_count": 183,
     "metadata": {},
     "output_type": "execute_result"
    },
    {
     "data": {
      "image/png": "[encoded data removed]",
      "text/plain": [
       "<Figure size 640x480 with 1 Axes>"
      ]
     },
     "metadata": {},
     "output_type": "display_data"
    }
   ],
   "source": [
    "import matplotlib.pyplot as plt\n",
    "\n",
    "plt.plot(y_test[300:500])\n",
    "plt.plot(y_predict[300:500])"
   ]
  },
  {
   "cell_type": "code",
   "execution_count": null,
   "metadata": {},
   "outputs": [],
   "source": []
  }
 ],
 "metadata": {
  "kernelspec": {
   "display_name": "venv",
   "language": "python",
   "name": "python3"
  },
  "language_info": {
   "codemirror_mode": {
    "name": "ipython",
    "version": 3
   },
   "file_extension": ".py",
   "mimetype": "text/x-python",
   "name": "python",
   "nbconvert_exporter": "python",
   "pygments_lexer": "ipython3",
   "version": "3.12.3"
  }
 },
 "nbformat": 4,
 "nbformat_minor": 2
}
