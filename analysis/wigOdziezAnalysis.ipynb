{
 "cells": [
  {
   "cell_type": "markdown",
   "metadata": {},
   "source": [
    "# Analysis selected sector WIG_ODZIEZ\n",
    "\n",
    "Sector chosen for analysis due to stability, no apparent cycles. Clothing is a commodity with stable demand.  \n",
    "\n",
    "Companies that make up the clothing sector (CCC, CDRL, ESOTIQ, HARPER, INTERSPPL, LPP, LUBAWA, MIRACULUM, MONNARI, PROTEKTOR, SANWIL, SILVANO, VRG, WITTCHEN).\n"
   ]
  },
  {
   "cell_type": "code",
   "execution_count": 6,
   "metadata": {},
   "outputs": [],
   "source": [
    "import pandas as pd\n",
    "import numpy as np"
   ]
  },
  {
   "cell_type": "code",
   "execution_count": 5,
   "metadata": {},
   "outputs": [],
   "source": [
    "COMPANY_TICKER_LIST = pd.read_csv(\"../database/designData/WIGs.csv\")[\"WIG_ODZIEZ\"].dropna().to_numpy()"
   ]
  },
  {
   "cell_type": "markdown",
   "metadata": {},
   "source": [
    "## Analysis base on financial index\n",
    "---"
   ]
  },
  {
   "cell_type": "code",
   "execution_count": 7,
   "metadata": {},
   "outputs": [],
   "source": []
  }
 ],
 "metadata": {
  "kernelspec": {
   "display_name": "venv",
   "language": "python",
   "name": "python3"
  },
  "language_info": {
   "codemirror_mode": {
    "name": "ipython",
    "version": 3
   },
   "file_extension": ".py",
   "mimetype": "text/x-python",
   "name": "python",
   "nbconvert_exporter": "python",
   "pygments_lexer": "ipython3",
   "version": "3.12.3"
  }
 },
 "nbformat": 4,
 "nbformat_minor": 2
}
